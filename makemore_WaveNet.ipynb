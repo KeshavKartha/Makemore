{
 "cells": [
  {
   "cell_type": "code",
   "execution_count": 1,
   "id": "9e6d699b-5e0c-4b54-82cf-36b40d83f27f",
   "metadata": {},
   "outputs": [],
   "source": [
    "import torch\n",
    "import torch.nn.functional as F\n",
    "import matplotlib.pyplot as plt\n",
    "%matplotlib inline"
   ]
  },
  {
   "cell_type": "code",
   "execution_count": 2,
   "id": "5e95cb94-6043-4008-9cc1-50270e63b092",
   "metadata": {},
   "outputs": [
    {
     "data": {
      "text/plain": [
       "['emma', 'olivia', 'ava', 'isabella', 'sophia', 'charlotte', 'mia', 'amelia']"
      ]
     },
     "execution_count": 2,
     "metadata": {},
     "output_type": "execute_result"
    }
   ],
   "source": [
    "words = open('names.txt', 'r').read().splitlines()\n",
    "words[:8]"
   ]
  },
  {
   "cell_type": "code",
   "execution_count": 3,
   "id": "0b70b613-673d-4786-bab0-3b47c16de6cd",
   "metadata": {},
   "outputs": [
    {
     "data": {
      "text/plain": [
       "32033"
      ]
     },
     "execution_count": 3,
     "metadata": {},
     "output_type": "execute_result"
    }
   ],
   "source": [
    "len(words)"
   ]
  },
  {
   "cell_type": "code",
   "execution_count": 4,
   "id": "ab6c3c50-c0a7-48ce-a695-cd48da044afa",
   "metadata": {},
   "outputs": [
    {
     "name": "stdout",
     "output_type": "stream",
     "text": [
      "{1: 'a', 2: 'b', 3: 'c', 4: 'd', 5: 'e', 6: 'f', 7: 'g', 8: 'h', 9: 'i', 10: 'j', 11: 'k', 12: 'l', 13: 'm', 14: 'n', 15: 'o', 16: 'p', 17: 'q', 18: 'r', 19: 's', 20: 't', 21: 'u', 22: 'v', 23: 'w', 24: 'x', 25: 'y', 26: 'z', 0: '.'}\n",
      "27\n"
     ]
    }
   ],
   "source": [
    "#Building vocabulary of words and mappings\n",
    "chars = sorted(list(set(''.join(words))))\n",
    "stoi = {s:i+1 for i,s in enumerate(chars)}\n",
    "stoi['.']=0\n",
    "itos = {i:s for s,i in stoi.items()}\n",
    "vocab_size = len(itos)\n",
    "print(itos)\n",
    "print(vocab_size)"
   ]
  },
  {
   "cell_type": "code",
   "execution_count": 5,
   "id": "7db1ae0b-fa6c-471e-8efb-0c06f55eec55",
   "metadata": {},
   "outputs": [
    {
     "name": "stdout",
     "output_type": "stream",
     "text": [
      "torch.Size([182625, 8]) torch.Size([182625])\n",
      "torch.Size([22655, 8]) torch.Size([22655])\n",
      "torch.Size([22866, 8]) torch.Size([22866])\n",
      "tensor([[ 0,  0,  0,  0,  0,  0,  0,  0],\n",
      "        [ 0,  0,  0,  0,  0,  0,  0, 25],\n",
      "        [ 0,  0,  0,  0,  0,  0, 25, 21],\n",
      "        [ 0,  0,  0,  0,  0, 25, 21,  8],\n",
      "        [ 0,  0,  0,  0, 25, 21,  8,  5]])\n"
     ]
    }
   ],
   "source": [
    "#Building the dataset\n",
    "block_size = 8 #Context length to specify how many characters we consider to predict the next one\n",
    "\n",
    "def build_dataset(words):\n",
    "    X, Y = [], []\n",
    "    \n",
    "    for w in words:\n",
    "    \n",
    "        context = [0] * block_size\n",
    "        for ch in w + '.':\n",
    "            ix = stoi[ch]\n",
    "            X.append(context)\n",
    "            Y.append(ix)\n",
    "            #print(''.join(itos[i] for i in context), '---->', itos[ix])\n",
    "            context = context[1:] + [ix] #sliding window\n",
    "    \n",
    "    X = torch.tensor(X)\n",
    "    Y = torch.tensor(Y)\n",
    "    print(X.shape, Y.shape)\n",
    "    return X,Y\n",
    "\n",
    "import random\n",
    "random.seed(42)\n",
    "random.shuffle(words)\n",
    "n1 = int(0.8*len(words))\n",
    "n2 = int(0.9*len(words))\n",
    "\n",
    "Xtr, Ytr = build_dataset(words[:n1]) #80%\n",
    "Xdev, Ydev = build_dataset(words[n1:n2]) #90%\n",
    "Xte, Yte = build_dataset(words[n2:]) #10%\n",
    "\n",
    "print(Xtr[:5])"
   ]
  },
  {
   "cell_type": "code",
   "execution_count": 6,
   "id": "cec02b32-6fcb-45a8-bd9a-6a90fcf0f788",
   "metadata": {},
   "outputs": [
    {
     "name": "stdout",
     "output_type": "stream",
     "text": [
      "........ ----> y\n",
      ".......y ----> u\n",
      "......yu ----> h\n",
      ".....yuh ----> e\n",
      "....yuhe ----> n\n",
      "...yuhen ----> g\n",
      "..yuheng ----> .\n",
      "........ ----> d\n",
      ".......d ----> i\n",
      "......di ----> o\n",
      ".....dio ----> n\n",
      "....dion ----> d\n",
      "...diond ----> r\n",
      "..diondr ----> e\n",
      ".diondre ----> .\n"
     ]
    }
   ],
   "source": [
    "for x,y in zip(Xtr[:15], Ytr[:15]):\n",
    "    print(''.join(itos[ix.item()] for ix in x), '---->', itos[y.item()])"
   ]
  },
  {
   "cell_type": "code",
   "execution_count": 7,
   "id": "588f6fb7-b54b-4619-a1b7-f901e17443ff",
   "metadata": {},
   "outputs": [],
   "source": [
    "#Building a deeper network and pytorchifying code\n",
    "\n",
    "class Linear:\n",
    "    def __init__(self, fan_in, fan_out, bias=True):\n",
    "        self.weight = torch.randn((fan_in, fan_out)) / fan_in**0.5 #Kaiming init\n",
    "        self.bias = torch.zeros(fan_out) if bias else None\n",
    "\n",
    "    #forward pass\n",
    "    def __call__(self, x): #x is input tensor\n",
    "        self.out = x @ self.weight\n",
    "        if self.bias is not None:\n",
    "            self.out += self.bias\n",
    "        return self.out\n",
    "\n",
    "    def parameters(self):\n",
    "        return [self.weight] + ([] if self.bias is None else [self.bias])\n",
    "\n",
    "\n",
    "class BatchNorm1d:\n",
    "\n",
    "    def __init__(self, dim, eps=1e-5, momentum=0.1):\n",
    "        self.eps = eps\n",
    "        self.momentum = momentum\n",
    "        self.training = True\n",
    "        #params trained with backprop\n",
    "        self.gamma = torch.ones(dim)\n",
    "        self.beta = torch.ones(dim)\n",
    "        #buffers(trained with a running momentum update)\n",
    "        self.running_mean = torch.zeros(dim)\n",
    "        self.running_var = torch.zeros(dim)\n",
    "\n",
    "    def __call__(self, x): #x is input tensor which is a batch.\n",
    "        #forward pass\n",
    "        if self.training:\n",
    "            if x.ndim == 2:\n",
    "                dim=0\n",
    "            elif x.ndim == 3:\n",
    "                dim = (0,1)\n",
    "            xmean = x.mean(dim, keepdim=True)\n",
    "            xvar = x.var(dim, keepdim=True, unbiased=True)\n",
    "        else:\n",
    "            xmean = self.running_mean\n",
    "            xvar = self.running_var\n",
    "        xhat = (x - xmean) / torch.sqrt(xvar + self.eps)\n",
    "        self.out = self.gamma * xhat + self.beta\n",
    "        #update buffers\n",
    "        if self.training:\n",
    "            with torch.no_grad():\n",
    "                self.running_mean = (1-self.momentum) * self.running_mean + self.momentum * xmean\n",
    "                self.running_var = (1-self.momentum) * self.running_var + self.momentum * xvar\n",
    "\n",
    "        return self.out\n",
    "\n",
    "\n",
    "    def parameters(self):\n",
    "        return [self.gamma, self.beta]\n",
    "\n",
    "\n",
    "class Tanh:\n",
    "    def __call__(self, x):\n",
    "        self.out = torch.tanh(x)\n",
    "        return self.out\n",
    "    def parameters(self):\n",
    "        return []\n",
    "\n",
    "\n",
    "class Embeddings:\n",
    "    \n",
    "    def __init__(self, num_embeddings, emb_dims):\n",
    "        self.weight = torch.randn((num_embeddings, emb_dims))\n",
    "\n",
    "    def __call__(self, ix):\n",
    "        self.out = self.weight[ix]\n",
    "        return self.out\n",
    "\n",
    "    def parameters(self):\n",
    "        return [self.weight]\n",
    "\n",
    "class FlattenConsecutive: # Concatenating to follow the wavenet architecture\n",
    "\n",
    "    def __init__(self, n):\n",
    "        self.n = n # How many consecutive embs I want to concatenate\n",
    "    \n",
    "    def __call__(self, x):\n",
    "        \n",
    "        B, T, C = x.shape\n",
    "        x = x.view(B, T//self.n, C*self.n)\n",
    "        if x.shape[1]==1:\n",
    "            x = x.squeeze(1)\n",
    "        self.out = x\n",
    "        return self.out\n",
    "\n",
    "    def parameters(self):\n",
    "        return []\n",
    "\n",
    "\n",
    "class Sequential:\n",
    "\n",
    "    def __init__(self, layers):\n",
    "        self.layers = layers\n",
    "\n",
    "    def __call__(self, x):\n",
    "        for layer in self.layers:\n",
    "            x = layer(x)\n",
    "        self.out = x\n",
    "        return self.out\n",
    "\n",
    "    def parameters(self):\n",
    "        return [p for layer in self.layers for p in layer.parameters()]"
   ]
  },
  {
   "cell_type": "code",
   "execution_count": 8,
   "id": "83eb1607-611a-4a06-8ca5-33f5825d1e76",
   "metadata": {},
   "outputs": [],
   "source": [
    "torch.manual_seed(42);"
   ]
  },
  {
   "cell_type": "code",
   "execution_count": 9,
   "id": "2e7ffacb-f853-4759-86e5-18cc59745d7b",
   "metadata": {},
   "outputs": [
    {
     "name": "stdout",
     "output_type": "stream",
     "text": [
      "76579\n",
      "Embeddings : (4, 8, 24)\n",
      "FlattenConsecutive : (4, 4, 48)\n",
      "Linear : (4, 4, 128)\n",
      "BatchNorm1d : (4, 4, 128)\n",
      "Tanh : (4, 4, 128)\n",
      "FlattenConsecutive : (4, 2, 256)\n",
      "Linear : (4, 2, 128)\n",
      "BatchNorm1d : (4, 2, 128)\n",
      "Tanh : (4, 2, 128)\n",
      "FlattenConsecutive : (4, 256)\n",
      "Linear : (4, 128)\n",
      "BatchNorm1d : (4, 128)\n",
      "Tanh : (4, 128)\n",
      "Linear : (4, 27)\n"
     ]
    }
   ],
   "source": [
    "\n",
    "n_emb = 24 #Embedding dimension\n",
    "n_hidden = 128 #No. of neurons in the hidden layer\n",
    "\n",
    "#C = torch.randn((vocab_size, n_emb))\n",
    "\n",
    "model = Sequential([\n",
    "    Embeddings(vocab_size, n_emb), \n",
    "    FlattenConsecutive(2), Linear(   n_emb*2, n_hidden, bias=False), BatchNorm1d(n_hidden), Tanh(),\n",
    "    FlattenConsecutive(2), Linear(n_hidden*2, n_hidden, bias=False), BatchNorm1d(n_hidden), Tanh(),\n",
    "    FlattenConsecutive(2), Linear(n_hidden*2, n_hidden, bias=False), BatchNorm1d(n_hidden), Tanh(),\n",
    "    Linear(n_hidden, vocab_size),\n",
    "])\n",
    "\n",
    "#Implemented the wavenet above.\n",
    "#It merges 2 characters at a time considering a context length of 8 characters.\n",
    "#Continues to merge across 3 layers\n",
    "\n",
    "\n",
    "with torch.no_grad():\n",
    "    #make last layer less confident\n",
    "    model.layers[-1].weight *= 0.1\n",
    "\n",
    "parameters = model.parameters()\n",
    "print(sum(p.nelement() for p in parameters))\n",
    "for p in parameters:\n",
    "    p.requires_grad = True\n",
    "\n",
    "ix = torch.randint(0, Xtr.shape[0], (4,))\n",
    "Xb, Yb = Xtr[ix], Ytr[ix]\n",
    "logits = model(Xb)\n",
    "\n",
    "\n",
    "\n",
    "for layer in model.layers:\n",
    "    print(layer.__class__.__name__, ':', tuple(layer.out.shape))"
   ]
  },
  {
   "cell_type": "code",
   "execution_count": 11,
   "id": "f15f62cd-b0e0-42f7-8e38-01765bfacd6c",
   "metadata": {},
   "outputs": [
    {
     "name": "stdout",
     "output_type": "stream",
     "text": [
      "      0/200000 : 3.1594\n",
      "  10000/200000 : 1.9795\n",
      "  20000/200000 : 1.7598\n",
      "  30000/200000 : 2.1983\n",
      "  40000/200000 : 2.4036\n",
      "  50000/200000 : 1.5357\n",
      "  60000/200000 : 2.1421\n",
      "  70000/200000 : 1.8554\n",
      "  80000/200000 : 1.6047\n",
      "  90000/200000 : 1.9173\n",
      " 100000/200000 : 1.9383\n",
      " 110000/200000 : 1.8230\n",
      " 120000/200000 : 1.8874\n",
      " 130000/200000 : 1.8354\n",
      " 140000/200000 : 2.2075\n",
      " 150000/200000 : 1.7851\n",
      " 160000/200000 : 2.1550\n",
      " 170000/200000 : 1.8080\n",
      " 180000/200000 : 1.7263\n",
      " 190000/200000 : 1.6256\n"
     ]
    }
   ],
   "source": [
    "#optimization\n",
    "\n",
    "max_steps = 200000\n",
    "batch_size = 32\n",
    "lossi = []\n",
    "\n",
    "for i in range(max_steps):\n",
    "\n",
    "    #minibatch construct\n",
    "    ix = torch.randint(0, Xtr.shape[0], (batch_size,))\n",
    "    Xb, Yb = Xtr[ix], Ytr[ix]\n",
    "\n",
    "    #forward pass\n",
    "    logits = model(Xb)\n",
    "    loss = F.cross_entropy(logits, Yb)\n",
    "\n",
    "    #backward pass\n",
    "    for layer in model.layers:\n",
    "        layer.out.retain_grad()\n",
    "    for p in parameters:\n",
    "        p.grad = None\n",
    "    loss.backward()\n",
    "\n",
    "    #update weights\n",
    "    lr = 0.1 if i<100000 else 0.01 #step lr decay\n",
    "    for p in parameters:\n",
    "        p.data += -lr * p.grad\n",
    "\n",
    "    #tracking stats\n",
    "    if i%10000==0:\n",
    "        print(f'{i:7d}/{max_steps:4d} : {loss.item():.4f}')\n",
    "    lossi.append(loss.log10().item())\n"
   ]
  },
  {
   "cell_type": "code",
   "execution_count": 12,
   "id": "b3cb1389-9a72-4fad-b282-f78c3096bfff",
   "metadata": {},
   "outputs": [
    {
     "data": {
      "text/plain": [
       "[<matplotlib.lines.Line2D at 0x23ee0eb7390>]"
      ]
     },
     "execution_count": 12,
     "metadata": {},
     "output_type": "execute_result"
    },
    {
     "data": {
      "image/png": "[encoded data removed]",
      "text/plain": [
       "<Figure size 640x480 with 1 Axes>"
      ]
     },
     "metadata": {},
     "output_type": "display_data"
    }
   ],
   "source": [
    "plt.plot(torch.tensor(lossi).view(-1, 1000).mean(1))"
   ]
  },
  {
   "cell_type": "code",
   "execution_count": 13,
   "id": "18d9d851-07c3-4172-8404-2513ecbbfb48",
   "metadata": {},
   "outputs": [],
   "source": [
    "#put layers into eval mode (needed for batchnorm specifically)\n",
    "\n",
    "for layer in model.layers:\n",
    "    layer.training = False "
   ]
  },
  {
   "cell_type": "code",
   "execution_count": 16,
   "id": "e6424c4f-f7bb-4eb4-bb18-663794b61785",
   "metadata": {},
   "outputs": [
    {
     "name": "stdout",
     "output_type": "stream",
     "text": [
      "brianno.\n",
      "desari.\n",
      "moham.\n",
      "swayd.\n",
      "diaor.\n",
      "dazion.\n",
      "amyro.\n",
      "yassyn.\n",
      "chainieb.\n",
      "sajavia.\n"
     ]
    }
   ],
   "source": [
    "#Sampling from model\n",
    "\n",
    "\n",
    "for i in range(10):\n",
    "    \n",
    "    ix = 0\n",
    "    \n",
    "    context = [0] * block_size \n",
    "    out = []\n",
    "    \n",
    "    while True:\n",
    "        #do a forward pass and get the final distribution then sample from it to get next character and keep sampling until I run into a '.'\n",
    "        \n",
    "        logits = model(torch.tensor([context]))\n",
    "        probs = F.softmax(logits, dim=1)\n",
    "        \n",
    "        ix = torch.multinomial(probs, num_samples=1, replacement=True).item()\n",
    "        \n",
    "        out.append(itos[ix])\n",
    "        context = context[1:] + [ix]\n",
    "    \n",
    "        if ix==0:\n",
    "            break\n",
    "    \n",
    "    \n",
    "    print(''.join(j for j in out))\n",
    "        "
   ]
  },
  {
   "cell_type": "code",
   "execution_count": null,
   "id": "a5f35405-fa24-46ac-9a36-1eced48e46e0",
   "metadata": {},
   "outputs": [],
   "source": [
    "# Names look great yayyy \n",
    "# Things I am now more open to \n",
    "# Underrstanding residual and skip connections.\n",
    "# Understanding conv layers and how they are implemented.\n",
    "# Onto the transformer to see if I can beat these results and make the names qualitatively better!"
   ]
  }
 ],
 "metadata": {
  "kernelspec": {
   "display_name": "Python 3 (ipykernel)",
   "language": "python",
   "name": "python3"
  },
  "language_info": {
   "codemirror_mode": {
    "name": "ipython",
    "version": 3
   },
   "file_extension": ".py",
   "mimetype": "text/x-python",
   "name": "python",
   "nbconvert_exporter": "python",
   "pygments_lexer": "ipython3",
   "version": "3.11.8"
  }
 },
 "nbformat": 4,
 "nbformat_minor": 5
}
