{
 "cells": [
  {
   "cell_type": "code",
   "execution_count": 54,
   "id": "9e6d699b-5e0c-4b54-82cf-36b40d83f27f",
   "metadata": {},
   "outputs": [],
   "source": [
    "import torch\n",
    "import torch.nn.functional as F\n",
    "import matplotlib.pyplot as plt\n",
    "%matplotlib inline"
   ]
  },
  {
   "cell_type": "code",
   "execution_count": 55,
   "id": "5e95cb94-6043-4008-9cc1-50270e63b092",
   "metadata": {},
   "outputs": [
    {
     "data": {
      "text/plain": [
       "['emma', 'olivia', 'ava', 'isabella', 'sophia', 'charlotte', 'mia', 'amelia']"
      ]
     },
     "execution_count": 55,
     "metadata": {},
     "output_type": "execute_result"
    }
   ],
   "source": [
    "words = open('names.txt', 'r').read().splitlines()\n",
    "words[:8]"
   ]
  },
  {
   "cell_type": "code",
   "execution_count": 56,
   "id": "0b70b613-673d-4786-bab0-3b47c16de6cd",
   "metadata": {},
   "outputs": [
    {
     "data": {
      "text/plain": [
       "32033"
      ]
     },
     "execution_count": 56,
     "metadata": {},
     "output_type": "execute_result"
    }
   ],
   "source": [
    "len(words)"
   ]
  },
  {
   "cell_type": "code",
   "execution_count": 57,
   "id": "ab6c3c50-c0a7-48ce-a695-cd48da044afa",
   "metadata": {},
   "outputs": [
    {
     "name": "stdout",
     "output_type": "stream",
     "text": [
      "{1: 'a', 2: 'b', 3: 'c', 4: 'd', 5: 'e', 6: 'f', 7: 'g', 8: 'h', 9: 'i', 10: 'j', 11: 'k', 12: 'l', 13: 'm', 14: 'n', 15: 'o', 16: 'p', 17: 'q', 18: 'r', 19: 's', 20: 't', 21: 'u', 22: 'v', 23: 'w', 24: 'x', 25: 'y', 26: 'z', 0: '.'}\n",
      "27\n"
     ]
    }
   ],
   "source": [
    "#Building vocabulary of words and mappings\n",
    "chars = sorted(list(set(''.join(words))))\n",
    "stoi = {s:i+1 for i,s in enumerate(chars)}\n",
    "stoi['.']=0\n",
    "itos = {i:s for s,i in stoi.items()}\n",
    "vocab_size = len(itos)\n",
    "print(itos)\n",
    "print(vocab_size)"
   ]
  },
  {
   "cell_type": "code",
   "execution_count": 58,
   "id": "7db1ae0b-fa6c-471e-8efb-0c06f55eec55",
   "metadata": {},
   "outputs": [
    {
     "name": "stdout",
     "output_type": "stream",
     "text": [
      "torch.Size([182625, 3]) torch.Size([182625])\n",
      "torch.Size([22655, 3]) torch.Size([22655])\n",
      "torch.Size([22866, 3]) torch.Size([22866])\n"
     ]
    }
   ],
   "source": [
    "#Building the dataset\n",
    "block_size = 3 #Context length to specify how many characters we consider to predict the next one\n",
    "\n",
    "def build_dataset(words):\n",
    "    X, Y = [], []\n",
    "    \n",
    "    for w in words:\n",
    "    \n",
    "        context = [0] * block_size\n",
    "        for ch in w + '.':\n",
    "            ix = stoi[ch]\n",
    "            X.append(context)\n",
    "            Y.append(ix)\n",
    "            #print(''.join(itos[i] for i in context), '---->', itos[ix])\n",
    "            context = context[1:] + [ix] #sliding window\n",
    "    \n",
    "    X = torch.tensor(X)\n",
    "    Y = torch.tensor(Y)\n",
    "    print(X.shape, Y.shape)\n",
    "    return X,Y\n",
    "\n",
    "import random\n",
    "random.seed(42)\n",
    "random.shuffle(words)\n",
    "n1 = int(0.8*len(words))\n",
    "n2 = int(0.9*len(words))\n",
    "\n",
    "Xtr, Ytr = build_dataset(words[:n1]) #80%\n",
    "Xdev, Ydev = build_dataset(words[n1:n2]) #90%\n",
    "Xte, Yte = build_dataset(words[n2:]) #10%\n"
   ]
  },
  {
   "cell_type": "code",
   "execution_count": 59,
   "id": "3fad1ae0-1b32-44bb-a2d4-af31f03a1638",
   "metadata": {},
   "outputs": [
    {
     "name": "stdout",
     "output_type": "stream",
     "text": [
      "11897\n"
     ]
    }
   ],
   "source": [
    "n_emb = 10 # the dimensionality of the character embedding vectors\n",
    "n_hidden = 200 # the number of neurons in the hidden layer of the MLP\n",
    "\n",
    "g = torch.Generator().manual_seed(2147483647)\n",
    "C = torch.randn((vocab_size,n_emb), generator=g) #a n_emb-dimensional embedding matrix for each character.\n",
    "W1 = torch.randn((n_emb * block_size,n_hidden), generator=g)\n",
    "b1 = torch.randn(n_hidden, generator=g)\n",
    "W2 = torch.randn((n_hidden,vocab_size), generator=g)\n",
    "b2 = torch.randn(vocab_size, generator=g)\n",
    "parameters = [C,W1,W2,b1,b2]\n",
    "print(sum(p.nelement() for p in parameters))\n",
    "for p in parameters:\n",
    "    p.requires_grad = True"
   ]
  },
  {
   "cell_type": "code",
   "execution_count": 60,
   "id": "9d8f1d1f-e939-4ee9-b1af-2f43c13edf69",
   "metadata": {},
   "outputs": [
    {
     "name": "stdout",
     "output_type": "stream",
     "text": [
      "      0/ 200000 : 27.8817\n",
      "  10000/ 200000 : 2.9068\n",
      "  20000/ 200000 : 2.5306\n",
      "  30000/ 200000 : 2.8085\n",
      "  40000/ 200000 : 2.0168\n",
      "  50000/ 200000 : 2.4266\n",
      "  60000/ 200000 : 2.4054\n",
      "  70000/ 200000 : 2.0851\n",
      "  80000/ 200000 : 2.3674\n",
      "  90000/ 200000 : 2.3539\n",
      " 100000/ 200000 : 2.0408\n",
      " 110000/ 200000 : 2.3113\n",
      " 120000/ 200000 : 1.9689\n",
      " 130000/ 200000 : 2.4592\n",
      " 140000/ 200000 : 2.2833\n",
      " 150000/ 200000 : 2.1654\n",
      " 160000/ 200000 : 2.0684\n",
      " 170000/ 200000 : 1.8238\n",
      " 180000/ 200000 : 2.0505\n",
      " 190000/ 200000 : 1.8953\n"
     ]
    }
   ],
   "source": [
    "#optimization\n",
    "\n",
    "max_steps = 200000\n",
    "batch_size = 32\n",
    "lossi = []\n",
    "\n",
    "\n",
    "for i in range(max_steps):\n",
    "    # minibatch construct\n",
    "    ix = torch.randint(0, Xtr.shape[0], (batch_size,), generator=g)\n",
    "    Xb, Yb = Xtr[ix], Ytr[ix]\n",
    "    \n",
    "    #forward pass\n",
    "    emb = C[Xb]\n",
    "    embcat = emb.view(emb.shape[0], -1) #concatenate the vectors\n",
    "    hpreact = embcat @ W1 + b1\n",
    "    h = torch.tanh(hpreact) #hidden layer\n",
    "    logits = h @ W2 + b2 # output layer\n",
    "    loss = F.cross_entropy(logits, Yb)\n",
    "    \n",
    "    # counts = logits.exp()\n",
    "    # probs = counts / counts.sum(1, keepdims=True)\n",
    "    # loss2 = -probs[torch.arange(C[X].shape[0]), Y].log().mean()\n",
    "    # This is nothing but the cross entropy loss\n",
    "    # Much more efficient to use the pytorch function than do the above\n",
    "\n",
    "    #backward pass\n",
    "    for p in parameters:\n",
    "        p.grad = None\n",
    "    loss.backward()\n",
    "    \n",
    "    #update params\n",
    "    lr = 0.1 if i < 100000 else 0.01 # step learning rate decay\n",
    "    for p in parameters:\n",
    "        p.data += -lr * p.grad\n",
    "\n",
    "    #track stats \n",
    "    if i % 10000 == 0:\n",
    "        print(f'{i:7d}/{max_steps:7d} : {loss.item():.4f}')\n",
    "    lossi.append(loss.log10().item())\n"
   ]
  },
  {
   "cell_type": "code",
   "execution_count": 61,
   "id": "19d957f5-6716-4da3-adaf-70a38eeb2ff2",
   "metadata": {},
   "outputs": [
    {
     "data": {
      "text/plain": [
       "[<matplotlib.lines.Line2D at 0x259cb1d82d0>]"
      ]
     },
     "execution_count": 61,
     "metadata": {},
     "output_type": "execute_result"
    },
    {
     "data": {
      "image/png": "[encoded data removed]",
      "text/plain": [
       "<Figure size 640x480 with 1 Axes>"
      ]
     },
     "metadata": {},
     "output_type": "display_data"
    }
   ],
   "source": [
    "plt.plot(lossi)"
   ]
  },
  {
   "cell_type": "code",
   "execution_count": 62,
   "id": "5303d829-c85e-4324-b4c0-e7ed6c90a2a8",
   "metadata": {},
   "outputs": [
    {
     "name": "stdout",
     "output_type": "stream",
     "text": [
      "train 2.122990846633911\n",
      "val 2.1651506423950195\n"
     ]
    }
   ],
   "source": [
    "@torch.no_grad\n",
    "def split_loss(split):\n",
    "    x,y = {\n",
    "        'train': (Xtr,Ytr),\n",
    "        'val' : (Xdev, Ydev),\n",
    "        'test' : (Xte, Yte),\n",
    "    } [split]\n",
    "    emb = C[x]\n",
    "    embcat = emb.view(emb.shape[0], -1)\n",
    "    h = torch.tanh(embcat @ W1 + b1)\n",
    "    logits = h @ W2 + b2\n",
    "    loss = F.cross_entropy(logits, y)\n",
    "    print(split, loss.item())\n",
    "\n",
    "split_loss('train')\n",
    "split_loss('val')"
   ]
  },
  {
   "cell_type": "code",
   "execution_count": 65,
   "id": "5fe8437e-124c-4675-8f7b-c70324f79840",
   "metadata": {},
   "outputs": [
    {
     "name": "stdout",
     "output_type": "stream",
     "text": [
      "kaylynn.\n",
      "taviy.\n",
      "prie.\n",
      "hensyn.\n",
      "caspyn.\n",
      "cee.\n",
      "mckingsnabella.\n",
      "jouria.\n",
      "sanan.\n",
      "sen.\n",
      "kyelo.\n",
      "liwan.\n",
      "aze.\n",
      "lakiance.\n",
      "sahilden.\n",
      "jasn.\n",
      "kmisa.\n",
      "abreisheinachilynn.\n",
      "adlanim.\n",
      "armanda.\n"
     ]
    }
   ],
   "source": [
    "#Sampling from the model\n",
    "\n",
    "g = torch.Generator().manual_seed(2147)\n",
    "\n",
    "for i in range(20):\n",
    "    out = []\n",
    "    ix = 0\n",
    "    context_window = [0] * block_size\n",
    "\n",
    "    while True:\n",
    "        #do a forward pass\n",
    "        emb = C[torch.tensor([context_window])]\n",
    "        embcat = emb.view(1, n_emb * block_size)\n",
    "        h = torch.tanh(embcat @ W1 + b1)\n",
    "        logits = h @ W2 + b2\n",
    "        probs = F.softmax(logits, dim=1)\n",
    "        #probs is the distribution after passing the context window\n",
    "        #Sample from this distribution and then update the context window\n",
    "        #Keep continuing until we draw a '.' which means the word is over\n",
    "        \n",
    "        ix = torch.multinomial(probs, num_samples=1, replacement=True, generator=g).item()\n",
    "\n",
    "        out.append(ix)\n",
    "        context_window = context_window[1:] + [ix]\n",
    "\n",
    "        if ix==0:\n",
    "            break\n",
    "\n",
    "\n",
    "    print(''.join(itos[i] for i in out))\n",
    "    \n",
    "    \n",
    "\n"
   ]
  },
  {
   "cell_type": "code",
   "execution_count": null,
   "id": "756ff4c4-3ded-45d6-a343-3aa219813fb1",
   "metadata": {},
   "outputs": [],
   "source": [
    "#The names are now much more name-like than the bigram model but there is still room for imporvement."
   ]
  }
 ],
 "metadata": {
  "kernelspec": {
   "display_name": "Python 3 (ipykernel)",
   "language": "python",
   "name": "python3"
  },
  "language_info": {
   "codemirror_mode": {
    "name": "ipython",
    "version": 3
   },
   "file_extension": ".py",
   "mimetype": "text/x-python",
   "name": "python",
   "nbconvert_exporter": "python",
   "pygments_lexer": "ipython3",
   "version": "3.11.8"
  }
 },
 "nbformat": 4,
 "nbformat_minor": 5
}
