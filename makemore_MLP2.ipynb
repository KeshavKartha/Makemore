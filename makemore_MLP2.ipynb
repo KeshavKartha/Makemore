{
 "cells": [
  {
   "cell_type": "code",
   "execution_count": 2,
   "id": "9e6d699b-5e0c-4b54-82cf-36b40d83f27f",
   "metadata": {},
   "outputs": [],
   "source": [
    "import torch\n",
    "import torch.nn.functional as F\n",
    "import matplotlib.pyplot as plt\n",
    "%matplotlib inline"
   ]
  },
  {
   "cell_type": "code",
   "execution_count": 3,
   "id": "5e95cb94-6043-4008-9cc1-50270e63b092",
   "metadata": {},
   "outputs": [
    {
     "data": {
      "text/plain": [
       "['emma', 'olivia', 'ava', 'isabella', 'sophia', 'charlotte', 'mia', 'amelia']"
      ]
     },
     "execution_count": 3,
     "metadata": {},
     "output_type": "execute_result"
    }
   ],
   "source": [
    "words = open('names.txt', 'r').read().splitlines()\n",
    "words[:8]"
   ]
  },
  {
   "cell_type": "code",
   "execution_count": 4,
   "id": "0b70b613-673d-4786-bab0-3b47c16de6cd",
   "metadata": {},
   "outputs": [
    {
     "data": {
      "text/plain": [
       "32033"
      ]
     },
     "execution_count": 4,
     "metadata": {},
     "output_type": "execute_result"
    }
   ],
   "source": [
    "len(words)"
   ]
  },
  {
   "cell_type": "code",
   "execution_count": 5,
   "id": "ab6c3c50-c0a7-48ce-a695-cd48da044afa",
   "metadata": {},
   "outputs": [
    {
     "name": "stdout",
     "output_type": "stream",
     "text": [
      "{1: 'a', 2: 'b', 3: 'c', 4: 'd', 5: 'e', 6: 'f', 7: 'g', 8: 'h', 9: 'i', 10: 'j', 11: 'k', 12: 'l', 13: 'm', 14: 'n', 15: 'o', 16: 'p', 17: 'q', 18: 'r', 19: 's', 20: 't', 21: 'u', 22: 'v', 23: 'w', 24: 'x', 25: 'y', 26: 'z', 0: '.'}\n",
      "27\n"
     ]
    }
   ],
   "source": [
    "#Building vocabulary of words and mappings\n",
    "chars = sorted(list(set(''.join(words))))\n",
    "stoi = {s:i+1 for i,s in enumerate(chars)}\n",
    "stoi['.']=0\n",
    "itos = {i:s for s,i in stoi.items()}\n",
    "vocab_size = len(itos)\n",
    "print(itos)\n",
    "print(vocab_size)"
   ]
  },
  {
   "cell_type": "code",
   "execution_count": 6,
   "id": "7db1ae0b-fa6c-471e-8efb-0c06f55eec55",
   "metadata": {},
   "outputs": [
    {
     "name": "stdout",
     "output_type": "stream",
     "text": [
      "torch.Size([182625, 3]) torch.Size([182625])\n",
      "torch.Size([22655, 3]) torch.Size([22655])\n",
      "torch.Size([22866, 3]) torch.Size([22866])\n"
     ]
    }
   ],
   "source": [
    "#Building the dataset\n",
    "block_size = 3 #Context length to specify how many characters we consider to predict the next one\n",
    "\n",
    "def build_dataset(words):\n",
    "    X, Y = [], []\n",
    "    \n",
    "    for w in words:\n",
    "    \n",
    "        context = [0] * block_size\n",
    "        for ch in w + '.':\n",
    "            ix = stoi[ch]\n",
    "            X.append(context)\n",
    "            Y.append(ix)\n",
    "            #print(''.join(itos[i] for i in context), '---->', itos[ix])\n",
    "            context = context[1:] + [ix] #sliding window\n",
    "    \n",
    "    X = torch.tensor(X)\n",
    "    Y = torch.tensor(Y)\n",
    "    print(X.shape, Y.shape)\n",
    "    return X,Y\n",
    "\n",
    "import random\n",
    "random.seed(42)\n",
    "random.shuffle(words)\n",
    "n1 = int(0.8*len(words))\n",
    "n2 = int(0.9*len(words))\n",
    "\n",
    "Xtr, Ytr = build_dataset(words[:n1]) #80%\n",
    "Xdev, Ydev = build_dataset(words[n1:n2]) #90%\n",
    "Xte, Yte = build_dataset(words[n2:]) #10%\n"
   ]
  },
  {
   "cell_type": "code",
   "execution_count": 7,
   "id": "588f6fb7-b54b-4619-a1b7-f901e17443ff",
   "metadata": {},
   "outputs": [],
   "source": [
    "#Building a deeper network and pytorchifying code\n",
    "\n",
    "class Linear:\n",
    "    def __init__(self, fan_in, fan_out, bias=True):\n",
    "        self.weight = torch.randn((fan_in, fan_out), generator=g) / fan_in**0.5 #Kaiming init\n",
    "        self.bias = torch.zeros(fan_out) if bias else None\n",
    "\n",
    "    #forward pass\n",
    "    def __call__(self, x): #x is input tensor\n",
    "        self.out = x @ self.weight\n",
    "        if self.bias is not None:\n",
    "            self.out += self.bias\n",
    "        return self.out\n",
    "\n",
    "    def parameters(self):\n",
    "        return [self.weight] + ([] if self.bias is None else [self.bias])\n",
    "\n",
    "\n",
    "class BatchNorm1d:\n",
    "\n",
    "    def __init__(self, dim, eps=1e-5, momentum=0.1):\n",
    "        self.eps = eps\n",
    "        self.momentum = momentum\n",
    "        self.training = True\n",
    "        #params trained with backprop\n",
    "        self.gamma = torch.ones(dim)\n",
    "        self.beta = torch.ones(dim)\n",
    "        #buffers(trained with a running momentum update)\n",
    "        self.running_mean = torch.zeroes(dim)\n",
    "        self.running_var = torch.zeroes(dim)\n",
    "\n",
    "    def __call__(self, x): #x is input tensor which is a batch.\n",
    "        #forward pass\n",
    "        if self.training:\n",
    "            xmean = x.mean(0, keepdim=True)\n",
    "            xvar = x.var(0, keepdim=True, unbiased=True)\n",
    "        else:\n",
    "            xmean = self.running_mean\n",
    "            xvar = self.running_var\n",
    "        xhat = (x - xmean) / torch.sqrt(xvar + self.eps)\n",
    "        self.out = self.gamma * xhat + self.beta\n",
    "        #update buffers\n",
    "        if self.training:\n",
    "            with torch.no_grad():\n",
    "                self.running_mean = (1-self.momentum) * self.running_mean + self.momentum * xmean\n",
    "                self.running_var = (1-self.momentum) * self.running_var + self.momentum * xvar\n",
    "\n",
    "        return self.out\n",
    "\n",
    "\n",
    "    def parameters(self):\n",
    "        return [self.gamma, self.beta]\n",
    "\n",
    "\n",
    "class Tanh:\n",
    "    def __call__(self, x):\n",
    "        self.out = torch.tanh(x)\n",
    "        return self.out\n",
    "    def parameters(self):\n",
    "        return []\n",
    "\n"
   ]
  },
  {
   "cell_type": "code",
   "execution_count": 8,
   "id": "2e7ffacb-f853-4759-86e5-18cc59745d7b",
   "metadata": {},
   "outputs": [
    {
     "name": "stdout",
     "output_type": "stream",
     "text": [
      "46497\n"
     ]
    }
   ],
   "source": [
    "\n",
    "g = torch.Generator().manual_seed(2147483647)\n",
    "\n",
    "n_emb = 10 #Embedding dimension\n",
    "n_hidden = 100 #No. of neurons in the hidden layer\n",
    "\n",
    "C = torch.randn((vocab_size, n_emb), generator=g)\n",
    "\n",
    "layers = [\n",
    "    Linear(n_emb*block_size, n_hidden), Tanh(),\n",
    "    Linear(        n_hidden, n_hidden), Tanh(),\n",
    "    Linear(        n_hidden, n_hidden), Tanh(),\n",
    "    Linear(        n_hidden, n_hidden), Tanh(),\n",
    "    Linear(        n_hidden, n_hidden), Tanh(),\n",
    "    Linear(        n_hidden, vocab_size),\n",
    "]\n",
    "\n",
    "with torch.no_grad():\n",
    "    #make last layer less confident\n",
    "    layers[-1].weight *= 0.1\n",
    "    #add gain to the other linear layers\n",
    "    for layer in layers[:-1]:\n",
    "        if isinstance(layer, Linear):\n",
    "            layer.weight *= 5/3\n",
    "\n",
    "parameters = [C] + [p for layer in layers for p in layer.parameters()]\n",
    "print(sum(p.nelement() for p in parameters))\n",
    "for p in parameters:\n",
    "    p.requires_grad = True"
   ]
  },
  {
   "cell_type": "code",
   "execution_count": 18,
   "id": "f15f62cd-b0e0-42f7-8e38-01765bfacd6c",
   "metadata": {},
   "outputs": [
    {
     "name": "stdout",
     "output_type": "stream",
     "text": [
      "      0/200000 : 3.2406\n",
      "  10000/200000 : 2.1308\n",
      "  20000/200000 : 2.1678\n",
      "  30000/200000 : 1.9966\n",
      "  40000/200000 : 2.1159\n",
      "  50000/200000 : 2.0640\n",
      "  60000/200000 : 2.2851\n",
      "  70000/200000 : 2.3379\n",
      "  80000/200000 : 1.8009\n",
      "  90000/200000 : 1.8712\n",
      " 100000/200000 : 2.3531\n",
      " 110000/200000 : 1.6022\n",
      " 120000/200000 : 1.8502\n",
      " 130000/200000 : 1.6604\n",
      " 140000/200000 : 1.5093\n",
      " 150000/200000 : 2.3040\n",
      " 160000/200000 : 2.0107\n",
      " 170000/200000 : 2.0182\n",
      " 180000/200000 : 2.1725\n",
      " 190000/200000 : 1.9249\n"
     ]
    }
   ],
   "source": [
    "#optimization\n",
    "\n",
    "max_steps = 200000\n",
    "batch_size = 32\n",
    "lossi = []\n",
    "\n",
    "for i in range(max_steps):\n",
    "\n",
    "    #minibatch construct\n",
    "    ix = torch.randint(0, Xtr.shape[0], (batch_size,), generator=g)\n",
    "    Xb, Yb = Xtr[ix], Ytr[ix]\n",
    "\n",
    "    #forward pass\n",
    "    emb = C[Xb]\n",
    "    x = emb.view(emb.shape[0], -1) #concatenate the vectors\n",
    "    for layer in layers:\n",
    "        x = layer(x)\n",
    "    loss = F.cross_entropy(x, Yb)\n",
    "\n",
    "    #backward pass\n",
    "    for layer in layers:\n",
    "        layer.out.retain_grad()\n",
    "    for p in parameters:\n",
    "        p.grad = None\n",
    "    loss.backward()\n",
    "\n",
    "    #update weights\n",
    "    lr = 0.1 if i<100000 else 0.01 #step lr decay\n",
    "    for p in parameters:\n",
    "        p.data += -lr * p.grad\n",
    "\n",
    "    #tracking stats\n",
    "    if i%10000==0:\n",
    "        print(f'{i:7d}/{max_steps:4d} : {loss.item():.4f}')\n",
    "    lossi.append(loss.log10().item())\n"
   ]
  },
  {
   "cell_type": "code",
   "execution_count": 19,
   "id": "b3cb1389-9a72-4fad-b282-f78c3096bfff",
   "metadata": {},
   "outputs": [
    {
     "data": {
      "text/plain": [
       "[<matplotlib.lines.Line2D at 0x2b54356fa50>]"
      ]
     },
     "execution_count": 19,
     "metadata": {},
     "output_type": "execute_result"
    },
    {
     "data": {
      "image/png": "[encoded data removed]",
      "text/plain": [
       "<Figure size 640x480 with 1 Axes>"
      ]
     },
     "metadata": {},
     "output_type": "display_data"
    }
   ],
   "source": [
    "plt.plot(lossi)"
   ]
  },
  {
   "cell_type": "code",
   "execution_count": 20,
   "id": "e6424c4f-f7bb-4eb4-bb18-663794b61785",
   "metadata": {},
   "outputs": [
    {
     "name": "stdout",
     "output_type": "stream",
     "text": [
      "hayleah.\n",
      "iya.\n",
      "mari.\n",
      "clayden.\n",
      "adelys.\n",
      "erik.\n",
      "azi.\n",
      "luelon.\n",
      "arcelin.\n",
      "brystani.\n"
     ]
    }
   ],
   "source": [
    "#Sampling from model\n",
    "\n",
    "\n",
    "for i in range(10):\n",
    "    \n",
    "    ix = 0\n",
    "    \n",
    "    context = [0] * block_size \n",
    "    out = []\n",
    "    \n",
    "    while True:\n",
    "        #do a forward pass and get the final distribution then sample from it to get next character and keep sampling until I run into a '.'\n",
    "        \n",
    "        emb = C[context]\n",
    "        emb = emb.view(1, n_emb*block_size)\n",
    "        for layer in layers:\n",
    "            emb = layer(emb)\n",
    "        \n",
    "        #pass it through a softmax\n",
    "        counts = emb.exp()\n",
    "        probs = counts / counts.sum(1, keepdim=True)\n",
    "        \n",
    "        ix = torch.multinomial(probs, num_samples=1, replacement=True, generator=g).item()\n",
    "        \n",
    "        out.append(itos[ix])\n",
    "        context = context[1:] + [ix]\n",
    "    \n",
    "        if ix==0:\n",
    "            break\n",
    "    \n",
    "    \n",
    "    print(''.join(j for j in out))\n",
    "        "
   ]
  },
  {
   "cell_type": "code",
   "execution_count": null,
   "id": "2912e693-6720-490c-bd2e-d4c1f9e14b5e",
   "metadata": {},
   "outputs": [],
   "source": [
    "#Results after just one single training loop\n",
    "# rauwqrmxztzfvw.\n",
    "# tystcmkbsdvcnayjf.\n",
    "# wzbnzdxccozhsitayxu.\n",
    "# wbesppzulxntfzohnlaabycxoocvmcbsodxmnmzji.\n",
    "# tetibfofiqzogakdtqyvenj.\n",
    "# krgdfibakq.\n",
    "# pjexqhbzdzlkvwrbindwapolpgrbdgogr.\n",
    "# kmqhaldhywherzxlbfnwimuq.\n",
    "# hdfqsecluyzkgllpprshykgwdhuqxol.\n",
    "# qwamtvxskkebcqtcldfnmt.\n",
    "\n",
    "#The results after training are quite nice compared to the prev model with only a single layer but still more to improve."
   ]
  }
 ],
 "metadata": {
  "kernelspec": {
   "display_name": "Python 3 (ipykernel)",
   "language": "python",
   "name": "python3"
  },
  "language_info": {
   "codemirror_mode": {
    "name": "ipython",
    "version": 3
   },
   "file_extension": ".py",
   "mimetype": "text/x-python",
   "name": "python",
   "nbconvert_exporter": "python",
   "pygments_lexer": "ipython3",
   "version": "3.11.8"
  }
 },
 "nbformat": 4,
 "nbformat_minor": 5
}
